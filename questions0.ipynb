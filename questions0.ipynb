{
 "cells": [
  {
   "cell_type": "markdown",
   "metadata": {},
   "source": [
    "# Algorithmic questions"
   ]
  },
  {
   "cell_type": "markdown",
   "metadata": {},
   "source": [
    "## Q1 - Permutations\n",
    "\n",
    "In this question, your task is to create all permutations of a non-empty input string and remove duplicates, if present.\n",
    "\n",
    "Create as many \"shufflings\" as you can!\n",
    "\n",
    "Examples:\n",
    "\n",
    "With input 'a':\n",
    "Your function should return: ['a']\n",
    "\n",
    "With input 'ab':\n",
    "Your function should return ['ab', 'ba']\n",
    "\n",
    "With input 'abc':\n",
    "Your function should return ['abc','acb','bac','bca','cab','cba']\n",
    "\n",
    "With input 'aabb':\n",
    "Your function should return ['aabb', 'abab', 'abba', 'baab', 'baba', 'bbaa']\n",
    "\n",
    "\n",
    "> Note: The order of the permutations doesn't matter.\n",
    "\n",
    "\n",
    "for this question please fill the function `permutations` in `python_questions.py`"
   ]
  },
  {
   "cell_type": "markdown",
   "metadata": {},
   "source": [
    "## Q2 - Find the missing letter\n",
    "\n",
    "Write a method that takes an array of consecutive (increasing) letters as input and that returns the missing letter in the array.\n",
    "You will always get an valid array. And it will be always exactly one letter be missing. The length of the array will always be at least 2.\n",
    "If there is no missing letter, the function should return `None`.\n",
    "\n",
    "Examples:\n",
    "\n",
    "```\n",
    "find_missing(['a','b','c','d','f']) # returns -> 'e'\n",
    "find_missing(['O','Q','R','S']) # returns -> 'P'\n",
    "```\n",
    "\n",
    "for this question please fill the function `find_missing` in `python_questions.py`\n"
   ]
  },
  {
   "cell_type": "markdown",
   "metadata": {},
   "source": [
    "# Pythonic questions"
   ]
  },
  {
   "cell_type": "markdown",
   "metadata": {},
   "source": [
    "## Q3 - lists\n",
    "\n",
    "we want to make a series of numbers, each series is created like this:\n",
    "if the number is even, divide it by 2, if it's odd, multiply it by 3 and add 1.\n",
    "we want to know how many steps it takes to get to 1.\n",
    "\n",
    "for example, if we start with 3, we get the following series:\n",
    "3, 10, 5, 16, 8, 4, 2, 1\n",
    "\n",
    "so it took 7 steps to get to 1.\n",
    "\n",
    "for more information about this problem, please see [this](https://en.wikipedia.org/wiki/Collatz_conjecture)\n",
    "\n",
    "write a function that takes a number and returns the number of steps it takes to get to 1.\n",
    "\n",
    "for this question please fill the function `steps_to_one` in `python_questions.py`"
   ]
  },
  {
   "cell_type": "markdown",
   "metadata": {},
   "source": [
    "## Q4 - List Comprehension in Python\n",
    "\n",
    "Given a list of integers, write a one-liner Python list comprehension to generate a new list that contains \n",
    "only the even numbers from the original list. note that there may be non-integer elements in the list.\n",
    "\n",
    "Example:\n",
    "    \n",
    "    ```python\n",
    "    input_list = [1, 2, 3, 4, 5, 6, 7, 8, 9, 'a', 'b', 'c']\n",
    "    output_list = [2, 4, 6, 8]\n",
    "    ```\n",
    "\n",
    "for this question please fill the function `list_comprehension` in `python_questions.py`"
   ]
  },
  {
   "cell_type": "markdown",
   "metadata": {},
   "source": [
    "## Q5 - classes\n",
    "\n",
    "Consider we want to read some realtime-data from a pipline. there system failure chance (i.e. we may loose power at any moment). As a conclusion, we want to save the data in a file rapidly and safely.\n",
    "\n",
    "there is a class called `DataSaver` in `python_questions.py` that does this job. \n",
    "\n",
    "- it has a method called `save` that saves the received data in a file.\n",
    "- it has a method called `add_data` that adds the received data to a buffer.\n",
    "\n",
    "> you should not change pre-written methods. \n",
    "\n",
    "also there is a function called `simulate_data_saver` that simulates the data saver.\n",
    "\n",
    "> you should not change this function either.\n",
    "\n",
    "already, if you run the `simulate_data_saver` function, you will see that it will face some errors. \n",
    "the goal of this question is to fix those errors by **adding** new methods to the `DataSaver` class.\n",
    "\n",
    "for this question please fill the class `DataSaver` in `python_questions.py`"
   ]
  },
  {
   "cell_type": "markdown",
   "metadata": {},
   "source": [
    "# Numpy and Pandas"
   ]
  },
  {
   "cell_type": "markdown",
   "metadata": {},
   "source": [
    "## Q6 - NumPy and 2D Arrays\n",
    "\n",
    "Consider a 2D NumPy array where each row represents a student and each column represents a test score. Write a Python function that takes such a 2D array as input and returns a 1D array containing the average test score for each student.\n",
    "\n",
    "For example, if the input array is `np.array([[85, 90, 78], [88, 92, 76], [80, 85, 88]])`, the function should return `np.array([84.33, 85.33, 84.33])`.\n",
    "\n",
    "Note: Your result should be rounded to two decimal places.\n",
    "\n",
    "for this question please fill the function `column_average` in `python_questions.py`"
   ]
  },
  {
   "cell_type": "markdown",
   "metadata": {},
   "source": [
    "## Q7 - NumPy and Sorting\n",
    "\n",
    "Given a 2D NumPy array, write a Python function that sorts the rows of the array based on the values in a specific column. The column index will be provided as a parameter to the function.\n",
    "\n",
    "For example, if the input array is `np.array([[1, 2, 3], [4, 50, 6], [7, 8, 9]])` and the column index is `0`, the function should return `np.array([[1, 2, 3], [4, 5, 6], [7, 8, 9]])` because the rows are already sorted based on the values in the second column.\n",
    "\n",
    "However, if the column index is `1`, the function should return `np.array([[1, 2, 3], [7, 8, 9], [4, 50, 6]])` because the rows are sorted based on the values in the second column.\n",
    "\n",
    "for this question please fill the function `sort_rows` in `python_questions.py`"
   ]
  },
  {
   "cell_type": "markdown",
   "metadata": {},
   "source": [
    "## Q8 - Pandas and DataFrames\n",
    "\n",
    "you will recive a dataframe that contains two columns, the first column is 'date' and the second column is 'value'.\n",
    "\n",
    "in the date column, they supposed to be sorted, but there are some rows that are not sorted. find those rows and omit them.\n",
    "\n",
    "also return the number of rows that you omitted.\n",
    "\n",
    "for this question please fill the function `sort_dataframe` in `python_questions.py`"
   ]
  },
  {
   "cell_type": "markdown",
   "metadata": {},
   "source": [
    "## Q9 - Pandas and DataFrames\n",
    "\n",
    "consider the data from the previous question. \n",
    "\n",
    "find the average of the values in each month. \n",
    "\n",
    "for this question please fill the function `average_monthly` in `python_questions.py`"
   ]
  }
 ],
 "metadata": {
  "kernelspec": {
   "display_name": "Python 3",
   "language": "python",
   "name": "python3"
  },
  "language_info": {
   "codemirror_mode": {
    "name": "ipython",
    "version": 3
   },
   "file_extension": ".py",
   "mimetype": "text/x-python",
   "name": "python",
   "nbconvert_exporter": "python",
   "pygments_lexer": "ipython3",
   "version": "3.11.4"
  }
 },
 "nbformat": 4,
 "nbformat_minor": 2
}
